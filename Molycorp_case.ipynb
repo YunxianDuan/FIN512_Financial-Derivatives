{
  "nbformat": 4,
  "nbformat_minor": 0,
  "metadata": {
    "colab": {
      "name": "Molycorp case",
      "provenance": [],
      "collapsed_sections": []
    },
    "kernelspec": {
      "name": "python3",
      "display_name": "Python 3"
    },
    "language_info": {
      "name": "python"
    }
  },
  "cells": [
    {
      "cell_type": "code",
      "metadata": {
        "id": "vQXr-VxW1eiH"
      },
      "source": [
        "import numpy as np\n",
        "import numpy.linalg\n",
        "import pandas as pd "
      ],
      "execution_count": 73,
      "outputs": []
    },
    {
      "cell_type": "code",
      "metadata": {
        "id": "f_XIdZIC7CEY"
      },
      "source": [
        "def price (n, sigma, r, y, dt, ds):\n",
        "  matrix = np.zeros((n, n))\n",
        "  matrix[0, 0] = 1 + r * dt + pow(sigma, 2) * pow(0, 2) * dt\n",
        "  matrix[0, 1] = - pow(sigma, 2) * pow(0, 2) * dt / 2 + (r - y) * 0 * dt / 2\n",
        "  matrix[n-1, n-1] = 1 + r * dt + pow(sigma, 2) * pow(n - 1, 2) * dt\n",
        "  matrix[n-1, n-2] = - pow(sigma, 2) * pow(n - 1, 2) * dt / 2 - (r - y) * (n - 1) * dt / 2\n",
        "\n",
        "  for i in range(1, n-1):\n",
        "    matrix[i, i - 1] = - pow(sigma, 2) * pow(i, 2) * dt / 2 - (r - y) * i * dt / 2\n",
        "    matrix[i, i] = 1 + r * dt + pow(sigma, 2) * pow(i, 2) * dt\n",
        "    matrix[i, i + 1] = - pow(sigma, 2) * pow(i, 2) * dt / 2 + (r - y) * i * dt / 2\n",
        "  \n",
        "  grid = []\n",
        "  T = int(5 / dt)\n",
        "  D = int(1 / dt)\n",
        "  \n",
        "  K_T = numpy.linalg.inv(matrix)\n",
        "\n",
        "  # First boundary\n",
        "  W = np.transpose(np.mat(np.maximum(1000, np.arange(n) * ds * 1000 / 12))) + 60 * (T - 1 / dt) * dt\n",
        "  F = np.dot(K_T, W)\n",
        "  grid.append(F)\n",
        "  \n",
        "  # Second and third boundary\n",
        "  for i in range(T - 1, D - 1, -1):\n",
        "    F = np.dot(K_T, F)\n",
        "    S_t = np.transpose((np.mat(np.arange(n) * ds * 1000 / 12)))\n",
        "    S_t[:1600] += 60 * (i - 1 / dt + 1) * dt\n",
        "    S_t[1600:] += 60 * 4\n",
        "    F[0] = 0\n",
        "    F = np.maximum(F, S_t)\n",
        "    grid.append(F)\n",
        "\n",
        "  for i in range(D - 1, 0, -1):\n",
        "    F=np.dot(K_T,F)\n",
        "    S_t = np.transpose((np.mat(np.arange(n) * ds * 1000 / 12)))\n",
        "    F[0] = 0\n",
        "    F = np.maximum(F, S_t)\n",
        "    grid.append(F)\n",
        "\n",
        "  return grid[::-1]"
      ],
      "execution_count": 74,
      "outputs": []
    },
    {
      "cell_type": "code",
      "metadata": {
        "colab": {
          "base_uri": "https://localhost:8080/"
        },
        "id": "rM6r3e4cOT-e",
        "outputId": "bfb66314-c5aa-4c55-fa08-2c147270535f"
      },
      "source": [
        "# Q1\n",
        "\n",
        "sigma = 2\n",
        "r = 0.01\n",
        "y = 0.05\n",
        "dt = 1 / 52\n",
        "S = 60\n",
        "ds = 0.04\n",
        "n = int(S / ds)\n",
        "F = price(n, sigma, r, y, dt, ds)\n",
        "p = F[0][int(10 / ds)]\n",
        "print(F[0][int(10 / ds)])"
      ],
      "execution_count": 75,
      "outputs": [
        {
          "output_type": "stream",
          "text": [
            "[[970.13916081]]\n"
          ],
          "name": "stdout"
        }
      ]
    },
    {
      "cell_type": "code",
      "metadata": {
        "colab": {
          "base_uri": "https://localhost:8080/"
        },
        "id": "8FuVxGhDqf7T",
        "outputId": "41f8af16-7e09-448d-eafe-7faf0a2a3082"
      },
      "source": [
        "# Sensitivity\n",
        "\n",
        "ds = 0.04\n",
        "# 1\n",
        "S1 = 55  \n",
        "n = int(S1 / ds)\n",
        "F = price(n, sigma, r, y, dt, ds)\n",
        "print(F[0][int(10 / ds)])"
      ],
      "execution_count": 76,
      "outputs": [
        {
          "output_type": "stream",
          "text": [
            "[[959.57546438]]\n"
          ],
          "name": "stdout"
        }
      ]
    },
    {
      "cell_type": "code",
      "metadata": {
        "colab": {
          "base_uri": "https://localhost:8080/"
        },
        "id": "aP5C3HljvFF-",
        "outputId": "2f6de770-b876-449a-e4cc-9fecdd0700ef"
      },
      "source": [
        "# 2\n",
        "S2 = 58\n",
        "n = int(S2 / ds)\n",
        "F = price(n, sigma, r, y, dt, ds)\n",
        "print(F[0][int(10 / ds)])"
      ],
      "execution_count": 77,
      "outputs": [
        {
          "output_type": "stream",
          "text": [
            "[[966.06594643]]\n"
          ],
          "name": "stdout"
        }
      ]
    },
    {
      "cell_type": "code",
      "metadata": {
        "colab": {
          "base_uri": "https://localhost:8080/"
        },
        "id": "7AnqZu63vTLe",
        "outputId": "aca54fc9-9d97-4df0-e74d-410b5c0f4d33"
      },
      "source": [
        "# 3\n",
        "S3 = 63\n",
        "n = int(S3 / ds)\n",
        "F = price(n, sigma, r, y, dt, ds)\n",
        "print(F[0][int(10 / ds)])"
      ],
      "execution_count": 78,
      "outputs": [
        {
          "output_type": "stream",
          "text": [
            "[[975.9062265]]\n"
          ],
          "name": "stdout"
        }
      ]
    },
    {
      "cell_type": "code",
      "metadata": {
        "colab": {
          "base_uri": "https://localhost:8080/"
        },
        "id": "BEqDVNcVvZHf",
        "outputId": "febd5008-010d-454d-a499-f57a2fdd022b"
      },
      "source": [
        "# 4\n",
        "S4 = 65\n",
        "n = int(S4 / ds)\n",
        "F = price(n, sigma, r, y, dt, ds)\n",
        "print(F[0][int(10 / ds)])"
      ],
      "execution_count": 79,
      "outputs": [
        {
          "output_type": "stream",
          "text": [
            "[[979.54232432]]\n"
          ],
          "name": "stdout"
        }
      ]
    },
    {
      "cell_type": "code",
      "metadata": {
        "colab": {
          "base_uri": "https://localhost:8080/"
        },
        "id": "bMW9ZV31vhzG",
        "outputId": "26909312-d152-4f22-e11b-c01536e8f2f6"
      },
      "source": [
        "S = 60\n",
        "# 1 \n",
        "ds1 = 0.03  \n",
        "n = int(S / ds1)\n",
        "F = price(n, sigma, r, y, dt, ds1)\n",
        "print(F[0][int(10 / ds1)])"
      ],
      "execution_count": 80,
      "outputs": [
        {
          "output_type": "stream",
          "text": [
            "[[984.6949495]]\n"
          ],
          "name": "stdout"
        }
      ]
    },
    {
      "cell_type": "code",
      "metadata": {
        "colab": {
          "base_uri": "https://localhost:8080/"
        },
        "id": "CjoU_RAlvo9e",
        "outputId": "d7eccb97-a8e8-4ba5-9594-dd7b3f077e74"
      },
      "source": [
        "# 2\n",
        "ds2 = 0.035 \n",
        "n = int(S / ds2)\n",
        "F = price(n, sigma, r, y, dt, ds2)\n",
        "print(F[0][int(10 / ds2)])"
      ],
      "execution_count": 82,
      "outputs": [
        {
          "output_type": "stream",
          "text": [
            "[[975.17787794]]\n"
          ],
          "name": "stdout"
        }
      ]
    },
    {
      "cell_type": "code",
      "metadata": {
        "colab": {
          "base_uri": "https://localhost:8080/"
        },
        "id": "UIBeFtG5wY-v",
        "outputId": "e295275d-617d-41eb-a7cd-6d5ddfeca3bc"
      },
      "source": [
        "# 3\n",
        "ds3 = 0.045 \n",
        "n = int(S / ds3)\n",
        "F = price(n, sigma, r, y, dt, ds3)\n",
        "print(F[0][int(10 / ds3)])"
      ],
      "execution_count": 83,
      "outputs": [
        {
          "output_type": "stream",
          "text": [
            "[[963.41074475]]\n"
          ],
          "name": "stdout"
        }
      ]
    },
    {
      "cell_type": "code",
      "metadata": {
        "colab": {
          "base_uri": "https://localhost:8080/"
        },
        "id": "xofV49q2wdn3",
        "outputId": "5fb40e9b-2466-446e-9d92-59a4dc8a554d"
      },
      "source": [
        "# 4\n",
        "ds4 = 0.05\n",
        "n = int(S / ds4)\n",
        "F = price(n, sigma, r, y, dt, ds4)\n",
        "print(F[0][int(10 / ds4)])"
      ],
      "execution_count": 85,
      "outputs": [
        {
          "output_type": "stream",
          "text": [
            "[[958.99427076]]\n"
          ],
          "name": "stdout"
        }
      ]
    },
    {
      "cell_type": "code",
      "metadata": {
        "colab": {
          "base_uri": "https://localhost:8080/"
        },
        "id": "SmJO_wF9xW6W",
        "outputId": "096c93ce-ebb4-4525-e79f-675bb0f96edd"
      },
      "source": [
        "# Question 2\n",
        "\n",
        "y2 = 0.2\n",
        "S = 60\n",
        "ds = 0.04\n",
        "n = int(S / ds)\n",
        "F = price(n, sigma, r, y2, dt, ds)\n",
        "p2 = F[0][int(10 / ds)]\n",
        "print(F[0][int(10 / ds)])\n",
        "print(p2 - p)"
      ],
      "execution_count": 86,
      "outputs": [
        {
          "output_type": "stream",
          "text": [
            "[[1057.10017344]]\n",
            "[[86.96101262]]\n"
          ],
          "name": "stdout"
        }
      ]
    },
    {
      "cell_type": "code",
      "metadata": {
        "colab": {
          "base_uri": "https://localhost:8080/"
        },
        "id": "Q3oPoO-yb1Ze",
        "outputId": "429abcb3-8442-4ef6-aa88-ded15b69357d"
      },
      "source": [
        "# Question 3\n",
        "\n",
        "sigma = 2\n",
        "r = 0.01\n",
        "y = 0.05\n",
        "dt = 1 / 260\n",
        "S = 55\n",
        "ds = 0.05\n",
        "n = int(S / ds)\n",
        "F = price(n, sigma, r, y, dt, ds)\n",
        "print(F[0][int(10 / ds)])\n",
        "shares = 10000000 / F[0][int(10 / ds)]\n",
        "print(shares / 1000)"
      ],
      "execution_count": 95,
      "outputs": [
        {
          "output_type": "stream",
          "text": [
            "[[993.59669766]]\n",
            "[[10.06444569]]\n"
          ],
          "name": "stdout"
        }
      ]
    },
    {
      "cell_type": "code",
      "metadata": {
        "colab": {
          "resources": {
            "http://localhost:8080/nbextensions/google.colab/files.js": {
              "data": "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",
              "ok": true,
              "headers": [
                [
                  "content-type",
                  "application/javascript"
                ]
              ],
              "status": 200,
              "status_text": ""
            }
          },
          "base_uri": "https://localhost:8080/",
          "height": 174
        },
        "id": "haH_Tw0fye8s",
        "outputId": "c9c3b35a-5e00-4b64-c42e-de9abbc273f0"
      },
      "source": [
        "from google.colab import files\n",
        "uploaded = files.upload()\n",
        "\n",
        "for fn in uploaded.keys():\n",
        "  print('User uploaded file \"{name}\" with length {length} bytes'.format(name=fn, length=len(uploaded[fn])))"
      ],
      "execution_count": 52,
      "outputs": [
        {
          "output_type": "display_data",
          "data": {
            "text/html": [
              "\n",
              "     <input type=\"file\" id=\"files-77163083-c428-4b18-9306-5961d27284fe\" name=\"files[]\" multiple disabled\n",
              "        style=\"border:none\" />\n",
              "     <output id=\"result-77163083-c428-4b18-9306-5961d27284fe\">\n",
              "      Upload widget is only available when the cell has been executed in the\n",
              "      current browser session. Please rerun this cell to enable.\n",
              "      </output>\n",
              "      <script src=\"/nbextensions/google.colab/files.js\"></script> "
            ],
            "text/plain": [
              "<IPython.core.display.HTML object>"
            ]
          },
          "metadata": {
            "tags": []
          }
        },
        {
          "output_type": "stream",
          "text": [
            "Saving MCP_stock_price.xlsx to MCP_stock_price (2).xlsx\n",
            "Saving Molycorp_bond_price.xlsx to Molycorp_bond_price (2).xlsx\n",
            "User uploaded file \"MCP_stock_price.xlsx\" with length 43619 bytes\n",
            "User uploaded file \"Molycorp_bond_price.xlsx\" with length 26116 bytes\n"
          ],
          "name": "stdout"
        }
      ]
    },
    {
      "cell_type": "code",
      "metadata": {
        "colab": {
          "base_uri": "https://localhost:8080/"
        },
        "id": "wDnzARy5Tsbk",
        "outputId": "5c8645d4-3bcf-45cb-832e-a5b4078981bd"
      },
      "source": [
        "bond_price = pd.read_excel('Molycorp_bond_price.xlsx')[['Date', 'Last']]\n",
        "stock_price = pd.read_excel('MCP_stock_price.xlsx')[['Date', 'Adj Close']]\n",
        "bond_price['Date'] = pd.to_datetime(bond_price['Date'])\n",
        "stock_price['Date'] = pd.to_datetime(stock_price['Date'])\n",
        "all_data = (pd.merge(bond_price, stock_price, left_on='Date', right_on='Date', how='right', sort=True)).interpolate(method='linear')\n",
        "print(all_data)\n",
        "bond = all_data['Last']\n",
        "stock = all_data['Adj Close']\n",
        "delta = np.zeros(len(all_data) - 1)\n",
        "hedge = np.zeros(len(all_data) - 1)\n",
        "unhedge = np.zeros(len(all_data) - 1)"
      ],
      "execution_count": 57,
      "outputs": [
        {
          "output_type": "stream",
          "text": [
            "          Date        Last  Adj Close\n",
            "0   2012-08-17   99.304001       9.84\n",
            "1   2012-08-20  101.000000      10.02\n",
            "2   2012-08-21   98.875198       9.84\n",
            "3   2012-08-22   97.750000       9.64\n",
            "4   2012-08-23   99.241997       9.68\n",
            "..         ...         ...        ...\n",
            "776 2015-09-21    0.266767       0.10\n",
            "777 2015-09-22    0.200150       0.09\n",
            "778 2015-09-23    0.133533       0.10\n",
            "779 2015-09-24    0.066917       0.10\n",
            "780 2015-09-25    0.000300       0.10\n",
            "\n",
            "[781 rows x 3 columns]\n"
          ],
          "name": "stdout"
        }
      ]
    },
    {
      "cell_type": "code",
      "metadata": {
        "colab": {
          "base_uri": "https://localhost:8080/"
        },
        "id": "yhzmrYxIU3Vo",
        "outputId": "86b1ca7c-626f-4251-848c-bea41681785b"
      },
      "source": [
        "for i in range(len(all_data) - 1):\n",
        "  delta[i] = (F[i][int(stock[i] / ds) + 1] - F[i][int(stock[i] / ds) - 1]) / (2 * ds)\n",
        "\n",
        "for i in range(1, len(all_data) - 1):\n",
        "  hedge[i] = -delta[i - 1] * (stock[i] - stock[i - 1]) + (bond[i] - bond[i-1]) * shares / 1000\n",
        "  unhedge[i] = (bond[i] - bond[i - 1]) * shares / 1000\n",
        "\n",
        "print(np.mean(hedge), np.std(hedge))\n",
        "print(np.mean(unhedge), np.std(unhedge))\n"
      ],
      "execution_count": 98,
      "outputs": [
        {
          "output_type": "stream",
          "text": [
            "-0.1731130602237301 21.23464616393026\n",
            "-1.280469543709268 17.44138066908753\n"
          ],
          "name": "stdout"
        }
      ]
    }
  ]
}